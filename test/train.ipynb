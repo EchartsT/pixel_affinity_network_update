{
 "cells": [
  {
   "cell_type": "code",
   "execution_count": 1,
   "metadata": {},
   "outputs": [],
   "source": [
    "\"\"\"\n",
    "Copyright (C) 2017 NVIDIA Corporation.  All rights reserved.\n",
    "Licensed under the CC BY-NC-ND 4.0 license (https://creativecommons.org/licenses/by-nc-nd/4.0/legalcode).\n",
    "\"\"\"\n",
    "%matplotlib inline\n",
    "\n",
    "import matplotlib.pyplot as plt\n",
    "import os\n",
    "import cv2\n",
    "import numpy as np\n",
    "import torch\n",
    "from ERSModule import *\n",
    "from network import *\n",
    "from torch.utils.data import Dataset, DataLoader"
   ]
  },
  {
   "cell_type": "code",
   "execution_count": 2,
   "metadata": {},
   "outputs": [
    {
     "name": "stdout",
     "output_type": "stream",
     "text": [
      "Found 1087 images\n",
      "use_canny = True\n"
     ]
    }
   ],
   "source": [
    "# specify gpu id\n",
    "gpu_id = 0\n",
    "\n",
    "# configurations\n",
    "conn8 = 1\n",
    "\n",
    "# number of superpixels to be tested\n",
    "nC_list = [100, 200, 300, 400, 500, 600]\n",
    "\n",
    "# the file list of test data\n",
    "img_folder = '../data/groundtruth/'\n",
    "img_fullpath = []\n",
    "for filename in os.listdir(img_folder):\n",
    "    if filename.endswith('.png'):\n",
    "        img_fullpath.append(os.path.join(img_folder, filename))\n",
    "\n",
    "print('Found %d images' % (len(img_fullpath)))\n",
    "img_fullpath.sort()\n",
    "\n",
    "# prepare output folders\n",
    "imlog_dir = '../data/output'\n",
    "if not os.path.exists(imlog_dir):\n",
    "    os.makedirs(imlog_dir)\n",
    "\n",
    "label_dir = []\n",
    "for nC in nC_list:\n",
    "    tmp_dir = os.path.join(imlog_dir, str(nC))\n",
    "    label_dir.append(tmp_dir)\n",
    "    if not os.path.exists(tmp_dir):\n",
    "        os.makedirs(tmp_dir)\n",
    "\n",
    "affinity_dir = os.path.join(imlog_dir, 'affinity')\n",
    "if not os.path.exists(affinity_dir):\n",
    "    os.makedirs(affinity_dir)\n",
    "\n",
    "# model\n",
    "model = PixelAffinityNet(nr_channel=128, conv1_size=7, use_canny=True).cuda()\n",
    "# model.load_state_dict(torch.load('./bsds500.pkl', map_location=lambda storage, loc: storage))\n",
    "# model.eval()\n",
    "# model.cuda(gpu_id)"
   ]
  },
  {
   "cell_type": "code",
   "execution_count": 3,
   "metadata": {},
   "outputs": [
    {
     "data": {
      "text/plain": [
       "888482"
      ]
     },
     "execution_count": 3,
     "metadata": {},
     "output_type": "execute_result"
    }
   ],
   "source": [
    "# len(model.parameters)\n",
    "sum(param.numel() for param in model.parameters())"
   ]
  },
  {
   "cell_type": "code",
   "execution_count": 4,
   "metadata": {},
   "outputs": [],
   "source": [
    "img_fullpath\n",
    "dataset_ids = []\n",
    "for path in img_fullpath:\n",
    "    dataset_ids.append(path.split('/')[-1][:-4])"
   ]
  },
  {
   "cell_type": "code",
   "execution_count": 7,
   "metadata": {},
   "outputs": [],
   "source": [
    "class PixelAffinityDataset(Dataset):\n",
    "    def __init__(self, ids, path):\n",
    "        self.path = path\n",
    "        self.metadata = ids\n",
    "        \n",
    "    def __getitem__(self, index):\n",
    "        pic_name = self.metadata[index]\n",
    "        image = cv2.imread(self.path + '/input/' + pic_name.split('_')[0] + '.jpg')\n",
    "        gt = cv2.imread(self.path + '/groundtruth/' + pic_name + '.png', -1)\n",
    "\n",
    "        inputs = self.getInput(image)\n",
    "        target = self.getTarget(gt)\n",
    "#         boundaries = self.getBoundaries(gt)\n",
    "        \n",
    "        if inputs.shape[1] == 481:\n",
    "            inputs = torch.transpose(inputs, 1, 2)\n",
    "            target = torch.transpose(target, 1, 2)\n",
    "#             boundaries = boundaries.transpose()\n",
    "            gt = gt.transpose()\n",
    "        gt = gt.astype(np.int16)\n",
    "        return inputs, target, gt\n",
    "\n",
    "    def __len__(self):\n",
    "        return len(self.metadata)\n",
    "    \n",
    "    def getInput(self, image):\n",
    "        h, w, ch = image.shape\n",
    "\n",
    "        input1 = image.transpose((2, 0, 1))\n",
    "        input1 = np.float32(input1) / 255.0\n",
    "        input1 = torch.from_numpy(input1)  # input1.shape: (1, 3, 321, 481)\n",
    "\n",
    "        # compute Canny edges\n",
    "        edge = cv2.Canny(image, 50, 100)\n",
    "        edge = 1. - np.float32(edge) / 255.\n",
    "        edge = np.reshape(edge, [1, h, w])\n",
    "        input2 = torch.from_numpy(edge)\n",
    "        inputs = torch.cat((input1, input2), 0)  # (4, 321, 481)\n",
    "        return inputs\n",
    "    \n",
    "    \n",
    "    def getTarget(self, gt):\n",
    "        h, w = gt.shape\n",
    "        # 水平target\n",
    "        horizontal = np.float32(gt[:,1:] == gt[:,:-1])\n",
    "        horizontal = np.concatenate((horizontal, np.zeros((h,1),dtype='float32')), axis=1)\n",
    "        input1 = np.reshape(horizontal, [1, h, w])\n",
    "        input1 = torch.from_numpy(input1)\n",
    "        # 水平target\n",
    "        vertival = np.float32(gt[1:] == gt[:-1])\n",
    "        vertival = np.concatenate((vertival, np.zeros((1,w),dtype='float32')), axis=0)\n",
    "        input2 = np.reshape(vertival, [1, h, w])\n",
    "        input2 = torch.from_numpy(input2)\n",
    "\n",
    "        target = torch.cat((input1, input2), 0)\n",
    "#         target = target.cuda(gpu_id, non_blocking=True)\n",
    "        return target\n",
    "    \n",
    "#     def getBoundaries(self, gt):\n",
    "#         h, w = gt.shape\n",
    "\n",
    "#         horizontal = (gt[:, 1:-1] != gt[:, :-2]) + (gt[:, 1:-1] != gt[:, 2:])\n",
    "#         horizontal = np.concatenate((np.zeros((h,1),dtype='int16'), horizontal.astype('int16'), np.zeros((h,1),dtype='int16')), axis=1)\n",
    "\n",
    "#         vertival = ((gt[1:-1] != gt[:-2]) + (gt[1:-1] != gt[2:]))\n",
    "#         vertival = np.concatenate((np.zeros((1,w),dtype='int16'), vertival.astype('int16'), np.zeros((1,w),dtype='int16')), axis=0)\n",
    "#         boundaries = horizontal + vertival\n",
    "#         return boundaries"
   ]
  },
  {
   "cell_type": "code",
   "execution_count": 8,
   "metadata": {},
   "outputs": [
    {
     "ename": "AttributeError",
     "evalue": "'NoneType' object has no attribute 'shape'",
     "output_type": "error",
     "traceback": [
      "\u001b[0;31m---------------------------------------------------------------------------\u001b[0m",
      "\u001b[0;31mAttributeError\u001b[0m                            Traceback (most recent call last)",
      "\u001b[0;32m<ipython-input-8-9f6f30bafbf8>\u001b[0m in \u001b[0;36m<module>\u001b[0;34m()\u001b[0m\n\u001b[1;32m      2\u001b[0m \u001b[0mdata_loader\u001b[0m \u001b[0;34m=\u001b[0m \u001b[0mDataLoader\u001b[0m\u001b[0;34m(\u001b[0m\u001b[0mdataset\u001b[0m\u001b[0;34m,\u001b[0m \u001b[0mbatch_size\u001b[0m\u001b[0;34m=\u001b[0m\u001b[0;36m2\u001b[0m\u001b[0;34m)\u001b[0m\u001b[0;34m\u001b[0m\u001b[0m\n\u001b[1;32m      3\u001b[0m \u001b[0;34m\u001b[0m\u001b[0m\n\u001b[0;32m----> 4\u001b[0;31m \u001b[0minputs\u001b[0m\u001b[0;34m,\u001b[0m \u001b[0mtarget\u001b[0m\u001b[0;34m,\u001b[0m \u001b[0mgt\u001b[0m \u001b[0;34m=\u001b[0m \u001b[0mnext\u001b[0m\u001b[0;34m(\u001b[0m\u001b[0miter\u001b[0m\u001b[0;34m(\u001b[0m\u001b[0mdata_loader\u001b[0m\u001b[0;34m)\u001b[0m\u001b[0;34m)\u001b[0m\u001b[0;34m\u001b[0m\u001b[0m\n\u001b[0m\u001b[1;32m      5\u001b[0m \u001b[0minputs\u001b[0m\u001b[0;34m.\u001b[0m\u001b[0mshape\u001b[0m\u001b[0;34m,\u001b[0m \u001b[0mtarget\u001b[0m\u001b[0;34m.\u001b[0m\u001b[0mshape\u001b[0m\u001b[0;34m,\u001b[0m \u001b[0mgt\u001b[0m\u001b[0;34m.\u001b[0m\u001b[0mshape\u001b[0m\u001b[0;34m\u001b[0m\u001b[0m\n",
      "\u001b[0;32m/home/yorickyyt/anaconda3/envs/PAN/lib/python2.7/site-packages/torch/utils/data/dataloader.pyc\u001b[0m in \u001b[0;36m__next__\u001b[0;34m(self)\u001b[0m\n\u001b[1;32m    613\u001b[0m         \u001b[0;32mif\u001b[0m \u001b[0mself\u001b[0m\u001b[0;34m.\u001b[0m\u001b[0mnum_workers\u001b[0m \u001b[0;34m==\u001b[0m \u001b[0;36m0\u001b[0m\u001b[0;34m:\u001b[0m  \u001b[0;31m# same-process loading\u001b[0m\u001b[0;34m\u001b[0m\u001b[0m\n\u001b[1;32m    614\u001b[0m             \u001b[0mindices\u001b[0m \u001b[0;34m=\u001b[0m \u001b[0mnext\u001b[0m\u001b[0;34m(\u001b[0m\u001b[0mself\u001b[0m\u001b[0;34m.\u001b[0m\u001b[0msample_iter\u001b[0m\u001b[0;34m)\u001b[0m  \u001b[0;31m# may raise StopIteration\u001b[0m\u001b[0;34m\u001b[0m\u001b[0m\n\u001b[0;32m--> 615\u001b[0;31m             \u001b[0mbatch\u001b[0m \u001b[0;34m=\u001b[0m \u001b[0mself\u001b[0m\u001b[0;34m.\u001b[0m\u001b[0mcollate_fn\u001b[0m\u001b[0;34m(\u001b[0m\u001b[0;34m[\u001b[0m\u001b[0mself\u001b[0m\u001b[0;34m.\u001b[0m\u001b[0mdataset\u001b[0m\u001b[0;34m[\u001b[0m\u001b[0mi\u001b[0m\u001b[0;34m]\u001b[0m \u001b[0;32mfor\u001b[0m \u001b[0mi\u001b[0m \u001b[0;32min\u001b[0m \u001b[0mindices\u001b[0m\u001b[0;34m]\u001b[0m\u001b[0;34m)\u001b[0m\u001b[0;34m\u001b[0m\u001b[0m\n\u001b[0m\u001b[1;32m    616\u001b[0m             \u001b[0;32mif\u001b[0m \u001b[0mself\u001b[0m\u001b[0;34m.\u001b[0m\u001b[0mpin_memory\u001b[0m\u001b[0;34m:\u001b[0m\u001b[0;34m\u001b[0m\u001b[0m\n\u001b[1;32m    617\u001b[0m                 \u001b[0mbatch\u001b[0m \u001b[0;34m=\u001b[0m \u001b[0mpin_memory_batch\u001b[0m\u001b[0;34m(\u001b[0m\u001b[0mbatch\u001b[0m\u001b[0;34m)\u001b[0m\u001b[0;34m\u001b[0m\u001b[0m\n",
      "\u001b[0;32m<ipython-input-7-73d7932f099f>\u001b[0m in \u001b[0;36m__getitem__\u001b[0;34m(self, index)\u001b[0m\n\u001b[1;32m      9\u001b[0m         \u001b[0mgt\u001b[0m \u001b[0;34m=\u001b[0m \u001b[0mcv2\u001b[0m\u001b[0;34m.\u001b[0m\u001b[0mimread\u001b[0m\u001b[0;34m(\u001b[0m\u001b[0mself\u001b[0m\u001b[0;34m.\u001b[0m\u001b[0mpath\u001b[0m \u001b[0;34m+\u001b[0m \u001b[0;34m'/groundtruth/'\u001b[0m \u001b[0;34m+\u001b[0m \u001b[0mpic_name\u001b[0m \u001b[0;34m+\u001b[0m \u001b[0;34m'.png'\u001b[0m\u001b[0;34m,\u001b[0m \u001b[0;34m-\u001b[0m\u001b[0;36m1\u001b[0m\u001b[0;34m)\u001b[0m\u001b[0;34m\u001b[0m\u001b[0m\n\u001b[1;32m     10\u001b[0m \u001b[0;34m\u001b[0m\u001b[0m\n\u001b[0;32m---> 11\u001b[0;31m         \u001b[0minputs\u001b[0m \u001b[0;34m=\u001b[0m \u001b[0mself\u001b[0m\u001b[0;34m.\u001b[0m\u001b[0mgetInput\u001b[0m\u001b[0;34m(\u001b[0m\u001b[0mimage\u001b[0m\u001b[0;34m)\u001b[0m\u001b[0;34m\u001b[0m\u001b[0m\n\u001b[0m\u001b[1;32m     12\u001b[0m         \u001b[0mtarget\u001b[0m \u001b[0;34m=\u001b[0m \u001b[0mself\u001b[0m\u001b[0;34m.\u001b[0m\u001b[0mgetTarget\u001b[0m\u001b[0;34m(\u001b[0m\u001b[0mgt\u001b[0m\u001b[0;34m)\u001b[0m\u001b[0;34m\u001b[0m\u001b[0m\n\u001b[1;32m     13\u001b[0m \u001b[0;31m#         boundaries = self.getBoundaries(gt)\u001b[0m\u001b[0;34m\u001b[0m\u001b[0;34m\u001b[0m\u001b[0m\n",
      "\u001b[0;32m<ipython-input-7-73d7932f099f>\u001b[0m in \u001b[0;36mgetInput\u001b[0;34m(self, image)\u001b[0m\n\u001b[1;32m     25\u001b[0m \u001b[0;34m\u001b[0m\u001b[0m\n\u001b[1;32m     26\u001b[0m     \u001b[0;32mdef\u001b[0m \u001b[0mgetInput\u001b[0m\u001b[0;34m(\u001b[0m\u001b[0mself\u001b[0m\u001b[0;34m,\u001b[0m \u001b[0mimage\u001b[0m\u001b[0;34m)\u001b[0m\u001b[0;34m:\u001b[0m\u001b[0;34m\u001b[0m\u001b[0m\n\u001b[0;32m---> 27\u001b[0;31m         \u001b[0mh\u001b[0m\u001b[0;34m,\u001b[0m \u001b[0mw\u001b[0m\u001b[0;34m,\u001b[0m \u001b[0mch\u001b[0m \u001b[0;34m=\u001b[0m \u001b[0mimage\u001b[0m\u001b[0;34m.\u001b[0m\u001b[0mshape\u001b[0m\u001b[0;34m\u001b[0m\u001b[0m\n\u001b[0m\u001b[1;32m     28\u001b[0m \u001b[0;34m\u001b[0m\u001b[0m\n\u001b[1;32m     29\u001b[0m         \u001b[0minput1\u001b[0m \u001b[0;34m=\u001b[0m \u001b[0mimage\u001b[0m\u001b[0;34m.\u001b[0m\u001b[0mtranspose\u001b[0m\u001b[0;34m(\u001b[0m\u001b[0;34m(\u001b[0m\u001b[0;36m2\u001b[0m\u001b[0;34m,\u001b[0m \u001b[0;36m0\u001b[0m\u001b[0;34m,\u001b[0m \u001b[0;36m1\u001b[0m\u001b[0;34m)\u001b[0m\u001b[0;34m)\u001b[0m\u001b[0;34m\u001b[0m\u001b[0m\n",
      "\u001b[0;31mAttributeError\u001b[0m: 'NoneType' object has no attribute 'shape'"
     ]
    }
   ],
   "source": [
    "dataset = PixelAffinityDataset(dataset_ids, '../data')\n",
    "data_loader = DataLoader(dataset, batch_size=2)\n",
    "\n",
    "inputs, target, gt = next(iter(data_loader))\n",
    "inputs.shape, target.shape, gt.shape\n"
   ]
  },
  {
   "cell_type": "code",
   "execution_count": 9,
   "metadata": {
    "scrolled": true
   },
   "outputs": [],
   "source": [
    "a = model(torch.rand(2,4,321,481).cuda())"
   ]
  },
  {
   "cell_type": "code",
   "execution_count": 10,
   "metadata": {},
   "outputs": [],
   "source": [
    "b = torch.cat((a,a))"
   ]
  },
  {
   "cell_type": "code",
   "execution_count": 11,
   "metadata": {},
   "outputs": [
    {
     "ename": "NameError",
     "evalue": "name 'target' is not defined",
     "output_type": "error",
     "traceback": [
      "\u001b[0;31m---------------------------------------------------------------------------\u001b[0m",
      "\u001b[0;31mNameError\u001b[0m                                 Traceback (most recent call last)",
      "\u001b[0;32m<ipython-input-11-2c44838884b9>\u001b[0m in \u001b[0;36m<module>\u001b[0;34m()\u001b[0m\n\u001b[1;32m      1\u001b[0m \u001b[0mplt\u001b[0m\u001b[0;34m.\u001b[0m\u001b[0mfigure\u001b[0m\u001b[0;34m(\u001b[0m\u001b[0;34m)\u001b[0m\u001b[0;34m\u001b[0m\u001b[0m\n\u001b[0;32m----> 2\u001b[0;31m \u001b[0mplt\u001b[0m\u001b[0;34m.\u001b[0m\u001b[0mimshow\u001b[0m\u001b[0;34m(\u001b[0m\u001b[0mtarget\u001b[0m\u001b[0;34m[\u001b[0m\u001b[0;36m0\u001b[0m\u001b[0;34m]\u001b[0m\u001b[0;34m[\u001b[0m\u001b[0;36m0\u001b[0m\u001b[0;34m]\u001b[0m\u001b[0;34m,\u001b[0m \u001b[0mcmap\u001b[0m\u001b[0;34m=\u001b[0m\u001b[0;34m'gray'\u001b[0m\u001b[0;34m)\u001b[0m\u001b[0;34m\u001b[0m\u001b[0m\n\u001b[0m\u001b[1;32m      3\u001b[0m \u001b[0mplt\u001b[0m\u001b[0;34m.\u001b[0m\u001b[0mshow\u001b[0m\u001b[0;34m(\u001b[0m\u001b[0;34m)\u001b[0m\u001b[0;34m\u001b[0m\u001b[0m\n",
      "\u001b[0;31mNameError\u001b[0m: name 'target' is not defined"
     ]
    },
    {
     "data": {
      "text/plain": [
       "<Figure size 432x288 with 0 Axes>"
      ]
     },
     "metadata": {},
     "output_type": "display_data"
    }
   ],
   "source": [
    "plt.figure()\n",
    "plt.imshow(target[0][0], cmap='gray')\n",
    "plt.show()"
   ]
  },
  {
   "cell_type": "code",
   "execution_count": null,
   "metadata": {},
   "outputs": [],
   "source": [
    "def PAN(inputs):\n",
    "    # inference\n",
    "    out_x = model(inputs)  # (1, 1, 321, 481)\n",
    "    inputs_t = torch.transpose(inputs, 2, 3)\n",
    "    out_y_t = model(inputs_t)\n",
    "    out_y = torch.transpose(out_y_t, 2, 3)\n",
    "    outputs = torch.cat((out_x, out_y), 1) # (1, 2, 321, 481)\n",
    "\n",
    "    return outputs"
   ]
  },
  {
   "cell_type": "code",
   "execution_count": null,
   "metadata": {},
   "outputs": [],
   "source": [
    "def get_weight(gts, outputs):\n",
    "    n, h, w = gts.shape\n",
    "    weights = []\n",
    "    for i in range(n):\n",
    "        gt = gts[i]\n",
    "        affinity = outputs[i]  # (2, 321, 481)\n",
    "        affinity_list = affinity.flatten().tolist()\n",
    "        sp_list = ERSWgtOnly(affinity_list, h, w, 100, conn8, 0.5)\n",
    "        sp_label = np.reshape(np.asarray(sp_list), (h, w), order='C')\n",
    "\n",
    "        weight = np.ones_like(gt, np.float32)\n",
    "\n",
    "        # boundaries\n",
    "        horizontal = (gt[:, 1:-1] != gt[:, :-2]) + (gt[:, 1:-1] != gt[:, 2:])\n",
    "        horizontal = np.concatenate((np.zeros((321,1),dtype='int16'), horizontal.astype('int16'), np.zeros((321,1),dtype='int16')), axis=1)\n",
    "\n",
    "        vertival = ((gt[1:-1] != gt[:-2]) + (gt[1:-1] != gt[2:]))\n",
    "        vertival = np.concatenate((np.zeros((1,481),dtype='int16'), vertival.astype('int16'), np.zeros((1,481),dtype='int16')), axis=0)\n",
    "        boundaries = horizontal + vertival\n",
    "\n",
    "        dic = {}\n",
    "        for y in range(0, h):\n",
    "            for x in range(0, w):\n",
    "                if boundaries[y][x]:\n",
    "                    if (gt[y][x], sp_label[y][x]) in dic:\n",
    "                        weight[y][x] = dic[(gt[y][x], sp_label[y][x])]\n",
    "                        continue\n",
    "                    superpixel_mask = sp_label == sp_label[y][x]\n",
    "                    gt_in_sp = superpixel_mask * gt\n",
    "                    if len(np.unique(gt_in_sp)) <= 2:\n",
    "                        continue\n",
    "                    S = sum(sum(superpixel_mask)) * 1.\n",
    "                    S_G = sum(sum(gt_in_sp == gt[y][x])) * 1.\n",
    "                    weight[y][x] += (S - S_G) / S\n",
    "                    dic[(gt[y][x], sp_label[y][x])] = weight[y][x]\n",
    "        weights.append(weight)\n",
    "    return torch.from_numpy(np.array(weight))"
   ]
  },
  {
   "cell_type": "code",
   "execution_count": null,
   "metadata": {},
   "outputs": [],
   "source": [
    "loss_list = []    \n",
    "\n",
    "def train(model, optimiser, epochs, batch_size=2, lr=1e-4):\n",
    "    for p in optimiser.param_groups : p['lr'] = lr\n",
    "    criterion = nn.BCELoss().cuda()\n",
    "    for e in range(epochs) :\n",
    "        data_loader = DataLoader(dataset, batch_size)\n",
    "\n",
    "        inputs, target, gt = next(iter(data_loader))\n",
    "\n",
    "        for i, (inputs, target, gt) in enumerate(data_loader) :\n",
    "            \n",
    "            inputs, target = inputs.cuda(), target.cuda()\n",
    "\n",
    "            outputs = PAN(inputs)\n",
    "            weight = get_weight(gt.data.cpu().numpy(), outputs.data.cpu().numpy())\n",
    "            criterion.weight = weight.cuda()\n",
    "            loss = criterion(outputs, target)\n",
    "            \n",
    "            optimiser.zero_grad()\n",
    "            loss.backward()\n",
    "            optimiser.step()\n",
    "#             print(loss.item())\n",
    "            loss_list.append(loss.item())\n",
    "            if i % 1000 == 0:\n",
    "                affinity = outputs[0].data.cpu().numpy()\n",
    "                plt.figure()\n",
    "                plt.imshow(affinity[0], cmap='gray')\n",
    "                plt.show()\n",
    "        torch.save(model.state_dict(), 'model/model_'+ str(e) + '.pth')\n",
    "        print(' <saved>')"
   ]
  },
  {
   "cell_type": "code",
   "execution_count": null,
   "metadata": {},
   "outputs": [],
   "source": [
    "optimiser = torch.optim.Adam(model.parameters())"
   ]
  },
  {
   "cell_type": "code",
   "execution_count": null,
   "metadata": {},
   "outputs": [],
   "source": [
    "# model.load_stlinear_to_melate_dict(torch.load('model/model.pyt'))\n",
    "train(model, optimiser, epochs=100, batch_size=1, lr=1e-4)"
   ]
  },
  {
   "cell_type": "code",
   "execution_count": null,
   "metadata": {},
   "outputs": [],
   "source": [
    "inputs.shape"
   ]
  },
  {
   "cell_type": "code",
   "execution_count": null,
   "metadata": {},
   "outputs": [],
   "source": [
    "outputs = PAN(inputs.cuda())\n",
    "affinity = outputs[0].data.cpu().numpy()\n",
    "plt.figure()\n",
    "plt.imshow(affinity[0], cmap='gray')\n",
    "plt.show()"
   ]
  },
  {
   "cell_type": "code",
   "execution_count": null,
   "metadata": {},
   "outputs": [],
   "source": [
    "plt.figure()\n",
    "a = inputs[0][0]\n",
    "for i in range(1,4):\n",
    "    a += inputs[0][i]\n",
    "plt.imshow(a, cmap='gray')\n",
    "plt.show()"
   ]
  },
  {
   "cell_type": "code",
   "execution_count": null,
   "metadata": {},
   "outputs": [],
   "source": [
    "affinity[0]"
   ]
  },
  {
   "cell_type": "code",
   "execution_count": 19,
   "metadata": {},
   "outputs": [
    {
     "data": {
      "image/png": "[encoded data removed]",
      "text/plain": [
       "<Figure size 432x288 with 1 Axes>"
      ]
     },
     "metadata": {
      "needs_background": "light"
     },
     "output_type": "display_data"
    }
   ],
   "source": [
    "plt.figure()\n",
    "plt.plot(loss_list)\n",
    "plt.show()"
   ]
  },
  {
   "cell_type": "code",
   "execution_count": null,
   "metadata": {},
   "outputs": [],
   "source": []
  }
 ],
 "metadata": {
  "kernelspec": {
   "display_name": "Python [conda env:PAN]",
   "language": "python",
   "name": "conda-env-PAN-py"
  },
  "language_info": {
   "codemirror_mode": {
    "name": "ipython",
    "version": 2
   },
   "file_extension": ".py",
   "mimetype": "text/x-python",
   "name": "python",
   "nbconvert_exporter": "python",
   "pygments_lexer": "ipython2",
   "version": "2.7.16"
  }
 },
 "nbformat": 4,
 "nbformat_minor": 2
}
